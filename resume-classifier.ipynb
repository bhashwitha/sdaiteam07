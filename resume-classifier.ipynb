{
 "cells": [
  {
   "cell_type": "markdown",
   "id": "434d5799",
   "metadata": {
    "papermill": {
     "duration": 0.010723,
     "end_time": "2022-10-07T21:48:36.453342",
     "exception": false,
     "start_time": "2022-10-07T21:48:36.442619",
     "status": "completed"
    },
    "tags": []
   },
   "source": [
    "# importing all libraries"
   ]
  },
  {
   "cell_type": "code",
   "execution_count": null,
   "id": "53abebff",
   "metadata": {
    "_cell_guid": "b1076dfc-b9ad-4769-8c92-a6c4dae69d19",
    "_uuid": "8f2839f25d086af736a60e9eeb907d3b93b6e0e5",
    "papermill": {
     "duration": 6.385666,
     "end_time": "2022-10-07T21:48:42.848539",
     "exception": false,
     "start_time": "2022-10-07T21:48:36.462873",
     "status": "completed"
    },
    "tags": []
   },
   "outputs": [],
   "source": [
    "import os\n",
    "import re\n",
    "import sys\n",
    "import nltk\n",
    "import itertools\n",
    "import numpy as np \n",
    "import pandas as pd \n",
    "import seaborn as sns\n",
    "from sklearn import tree\n",
    "from sklearn.svm import SVC\n",
    "from joblib import dump, load\n",
    "from wordcloud import WordCloud\n",
    "import matplotlib.pyplot as plt\n",
    "from nltk.corpus import stopwords\n",
    "from nltk.stem import PorterStemmer\n",
    "from nltk.stem import WordNetLemmatizer\n",
    "from keras.models import Sequential,Model\n",
    "from sklearn.metrics import accuracy_score\n",
    "from sklearn.metrics import confusion_matrix\n",
    "from sklearn.naive_bayes import MultinomialNB\n",
    "from sklearn.preprocessing import LabelEncoder\n",
    "from keras.utils.np_utils import to_categorical\n",
    "from sklearn.ensemble import AdaBoostClassifier\n",
    "from sklearn.neighbors import KNeighborsClassifier\n",
    "from sklearn.ensemble import RandomForestClassifier\n",
    "from sklearn.model_selection import train_test_split\n",
    "from sklearn.feature_extraction.text import CountVectorizer\n",
    "from keras.layers import Dense,LSTM, SpatialDropout1D, Embedding"
   ]
  },
  {
   "cell_type": "markdown",
   "id": "2de4c10c",
   "metadata": {
    "papermill": {
     "duration": 0.010264,
     "end_time": "2022-10-07T21:48:42.868088",
     "exception": false,
     "start_time": "2022-10-07T21:48:42.857824",
     "status": "completed"
    },
    "tags": []
   },
   "source": [
    "# Reading the Dataset"
   ]
  },
  {
   "cell_type": "code",
   "execution_count": null,
   "id": "eba3e1be",
   "metadata": {
    "papermill": {
     "duration": 0.114552,
     "end_time": "2022-10-07T21:48:42.991541",
     "exception": false,
     "start_time": "2022-10-07T21:48:42.876989",
     "status": "completed"
    },
    "tags": []
   },
   "outputs": [],
   "source": [
    "df = pd.read_csv('/Users/bhashwithakolluri/Desktop/UpdatedResumeDataSet.csv')\n",
    "df"
   ]
  },
  {
   "cell_type": "markdown",
   "id": "d1a425ae",
   "metadata": {
    "papermill": {
     "duration": 0.009111,
     "end_time": "2022-10-07T21:48:43.010240",
     "exception": false,
     "start_time": "2022-10-07T21:48:43.001129",
     "status": "completed"
    },
    "tags": []
   },
   "source": [
    "# List of all Categories"
   ]
  },
  {
   "cell_type": "code",
   "execution_count": null,
   "id": "f77630a5",
   "metadata": {
    "papermill": {
     "duration": 0.025757,
     "end_time": "2022-10-07T21:48:43.045215",
     "exception": false,
     "start_time": "2022-10-07T21:48:43.019458",
     "status": "completed"
    },
    "tags": []
   },
   "outputs": [],
   "source": [
    "for i in range(len(df['Category'].unique())):\n",
    "    print(df['Category'].unique()[i])"
   ]
  },
  {
   "cell_type": "markdown",
   "id": "89d9c652",
   "metadata": {
    "papermill": {
     "duration": 0.009044,
     "end_time": "2022-10-07T21:48:43.063479",
     "exception": false,
     "start_time": "2022-10-07T21:48:43.054435",
     "status": "completed"
    },
    "tags": []
   },
   "source": [
    "# Visualizing the data distribution in each category."
   ]
  },
  {
   "cell_type": "code",
   "execution_count": null,
   "id": "2df13204",
   "metadata": {
    "papermill": {
     "duration": 0.928968,
     "end_time": "2022-10-07T21:48:44.001887",
     "exception": false,
     "start_time": "2022-10-07T21:48:43.072919",
     "status": "completed"
    },
    "tags": []
   },
   "outputs": [],
   "source": [
    "plt.figure(figsize=(50, 20), dpi=130)\n",
    "for i in range(len(df['Category'].unique())):\n",
    "    plt.bar(df['Category'].unique()[i], len(df['Category']==df['Category'].unique()[i]))\n",
    "plt.show()"
   ]
  },
  {
   "cell_type": "markdown",
   "id": "e862f3c7",
   "metadata": {
    "papermill": {
     "duration": 0.01005,
     "end_time": "2022-10-07T21:48:44.022380",
     "exception": false,
     "start_time": "2022-10-07T21:48:44.012330",
     "status": "completed"
    },
    "tags": []
   },
   "source": [
    "# Visualizing most commonly used words in each type of Resumes"
   ]
  },
  {
   "cell_type": "code",
   "execution_count": null,
   "id": "bc104e29",
   "metadata": {
    "papermill": {
     "duration": 31.990295,
     "end_time": "2022-10-07T21:49:16.022803",
     "exception": false,
     "start_time": "2022-10-07T21:48:44.032508",
     "status": "completed"
    },
    "tags": []
   },
   "outputs": [],
   "source": [
    "a=[ 'Accent_r', 'Blues', 'Blues_r', 'BrBG', 'viridis', 'viridis_r', 'vlag', 'vlag_r', 'winter', 'winter_r','BrBG_r', 'BuGn', 'BuGn_r', 'afmhot', 'afmhot_r', 'autumn', 'autumn_r', 'binary', 'binary_r', 'bone', 'bone_r', 'brg', 'brg_r', 'bwr', 'crest_r']\n",
    "for label, cmap in zip(df['Category'].unique(), a):\n",
    "    text = df.query(\"Category == @label\")[\"Resume\"].str.cat(sep=\" \")\n",
    "    plt.figure(figsize=(10, 6))\n",
    "    wc = WordCloud(width=1000, height=600, background_color=\"#f8f8f8\", colormap=cmap)\n",
    "    wc.generate_from_text(text)\n",
    "    plt.imshow(wc)\n",
    "    plt.axis(\"off\")\n",
    "    plt.title(f\"Words Commonly Used in ${label}$ Resumes\", size=20)\n",
    "    plt.show()"
   ]
  },
  {
   "cell_type": "markdown",
   "id": "13a6ab17",
   "metadata": {
    "papermill": {
     "duration": 0.087884,
     "end_time": "2022-10-07T21:49:16.201630",
     "exception": false,
     "start_time": "2022-10-07T21:49:16.113746",
     "status": "completed"
    },
    "tags": []
   },
   "source": [
    "# Visualizing the length disstribution of the content in the Resumes."
   ]
  },
  {
   "cell_type": "code",
   "execution_count": null,
   "id": "2723b8bd",
   "metadata": {
    "papermill": {
     "duration": 0.399107,
     "end_time": "2022-10-07T21:49:16.700197",
     "exception": false,
     "start_time": "2022-10-07T21:49:16.301090",
     "status": "completed"
    },
    "tags": []
   },
   "outputs": [],
   "source": [
    "df['length'] = df['Resume'].str.len()\n",
    "plt.figure(figsize=(12.8,6))\n",
    "sns.distplot(df['length']).set_title('Resume length distribution')"
   ]
  },
  {
   "cell_type": "markdown",
   "id": "7c0e8e6a",
   "metadata": {
    "papermill": {
     "duration": 0.086146,
     "end_time": "2022-10-07T21:49:16.870768",
     "exception": false,
     "start_time": "2022-10-07T21:49:16.784622",
     "status": "completed"
    },
    "tags": []
   },
   "source": [
    "# Summary of Length Distribution"
   ]
  },
  {
   "cell_type": "code",
   "execution_count": null,
   "id": "0b1227f4",
   "metadata": {
    "papermill": {
     "duration": 0.101775,
     "end_time": "2022-10-07T21:49:17.058343",
     "exception": false,
     "start_time": "2022-10-07T21:49:16.956568",
     "status": "completed"
    },
    "tags": []
   },
   "outputs": [],
   "source": [
    "df['length'].describe()"
   ]
  },
  {
   "cell_type": "markdown",
   "id": "649a24e2",
   "metadata": {
    "papermill": {
     "duration": 0.086563,
     "end_time": "2022-10-07T21:49:17.228081",
     "exception": false,
     "start_time": "2022-10-07T21:49:17.141518",
     "status": "completed"
    },
    "tags": []
   },
   "source": [
    "# Visualizing of number of words in each category of resume using boxplot"
   ]
  },
  {
   "cell_type": "code",
   "execution_count": null,
   "id": "cc63a4fd",
   "metadata": {
    "papermill": {
     "duration": 0.9597,
     "end_time": "2022-10-07T21:49:18.273655",
     "exception": false,
     "start_time": "2022-10-07T21:49:17.313955",
     "status": "completed"
    },
    "tags": []
   },
   "outputs": [],
   "source": [
    "plt.figure(figsize=(60,30))\n",
    "sns.boxplot(data=df, x='Category', y='length', width=.5);"
   ]
  },
  {
   "cell_type": "markdown",
   "id": "e8781ed3",
   "metadata": {
    "papermill": {
     "duration": 0.090403,
     "end_time": "2022-10-07T21:49:18.456160",
     "exception": false,
     "start_time": "2022-10-07T21:49:18.365757",
     "status": "completed"
    },
    "tags": []
   },
   "source": [
    "# Pre Processing"
   ]
  },
  {
   "cell_type": "markdown",
   "id": "8a12dff4",
   "metadata": {
    "papermill": {
     "duration": 0.087268,
     "end_time": "2022-10-07T21:49:18.630750",
     "exception": false,
     "start_time": "2022-10-07T21:49:18.543482",
     "status": "completed"
    },
    "tags": []
   },
   "source": [
    "# Checking for missing data"
   ]
  },
  {
   "cell_type": "code",
   "execution_count": null,
   "id": "0ebcd42e",
   "metadata": {
    "papermill": {
     "duration": 0.100863,
     "end_time": "2022-10-07T21:49:18.817924",
     "exception": false,
     "start_time": "2022-10-07T21:49:18.717061",
     "status": "completed"
    },
    "tags": []
   },
   "outputs": [],
   "source": [
    "print(df.isnull().sum())"
   ]
  },
  {
   "cell_type": "markdown",
   "id": "f2ce33db",
   "metadata": {
    "papermill": {
     "duration": 0.086655,
     "end_time": "2022-10-07T21:49:18.988718",
     "exception": false,
     "start_time": "2022-10-07T21:49:18.902063",
     "status": "completed"
    },
    "tags": []
   },
   "source": [
    "# Converting the data into lower case and removing words with small lengths"
   ]
  },
  {
   "cell_type": "code",
   "execution_count": null,
   "id": "2584afed",
   "metadata": {
    "papermill": {
     "duration": 0.536674,
     "end_time": "2022-10-07T21:49:19.611787",
     "exception": false,
     "start_time": "2022-10-07T21:49:19.075113",
     "status": "completed"
    },
    "tags": []
   },
   "outputs": [],
   "source": [
    "df['Resume'] = df['Resume'].apply(lambda x:x.lower())\n",
    "for i in range(len(df)):\n",
    "    lw=[]\n",
    "    for j in df['Resume'][i].split():\n",
    "        if len(j)>=3:                  \n",
    "            lw.append(j)\n",
    "    df['Resume'][i]=\" \".join(lw)"
   ]
  },
  {
   "cell_type": "markdown",
   "id": "856b6339",
   "metadata": {
    "papermill": {
     "duration": 0.087181,
     "end_time": "2022-10-07T21:49:19.784117",
     "exception": false,
     "start_time": "2022-10-07T21:49:19.696936",
     "status": "completed"
    },
    "tags": []
   },
   "source": [
    "# removing punctuations"
   ]
  },
  {
   "cell_type": "code",
   "execution_count": null,
   "id": "7e02b1d6",
   "metadata": {
    "papermill": {
     "duration": 0.121082,
     "end_time": "2022-10-07T21:49:19.992616",
     "exception": false,
     "start_time": "2022-10-07T21:49:19.871534",
     "status": "completed"
    },
    "tags": []
   },
   "outputs": [],
   "source": [
    "ps = list(\";?.:!,\")\n",
    "df['Resume'] = df['Resume']\n",
    "\n",
    "for p in ps:   \n",
    "    df['Resume'] = df['Resume'].str.replace(p, '')"
   ]
  },
  {
   "cell_type": "markdown",
   "id": "7786e15a",
   "metadata": {
    "papermill": {
     "duration": 0.091363,
     "end_time": "2022-10-07T21:49:20.173838",
     "exception": false,
     "start_time": "2022-10-07T21:49:20.082475",
     "status": "completed"
    },
    "tags": []
   },
   "source": [
    "# Removing '\\n' and '\\t', extra spaces, quoting text and progressive pronouns"
   ]
  },
  {
   "cell_type": "code",
   "execution_count": null,
   "id": "00a2c1f5",
   "metadata": {
    "papermill": {
     "duration": 0.12135,
     "end_time": "2022-10-07T21:49:20.388488",
     "exception": false,
     "start_time": "2022-10-07T21:49:20.267138",
     "status": "completed"
    },
    "tags": []
   },
   "outputs": [],
   "source": [
    "df['Resume'] = df['Resume'].str.replace(\"    \", \" \")\n",
    "df['Resume'] = df['Resume'].str.replace('\"', '')\n",
    "df['Resume'] = df['Resume'].apply(lambda x: x.replace('\\t', ' '))\n",
    "df['Resume'] = df['Resume'].str.replace(\"'s\", \"\")\n",
    "df['Resume'] = df['Resume'].apply(lambda x: x.replace('\\n', ' '))"
   ]
  },
  {
   "cell_type": "markdown",
   "id": "575d1d65",
   "metadata": {
    "papermill": {
     "duration": 0.090316,
     "end_time": "2022-10-07T21:49:20.568494",
     "exception": false,
     "start_time": "2022-10-07T21:49:20.478178",
     "status": "completed"
    },
    "tags": []
   },
   "source": [
    "# Applying Lemmatization"
   ]
  },
  {
   "cell_type": "code",
   "execution_count": null,
   "id": "2741b50d",
   "metadata": {
    "papermill": {
     "duration": 0.705189,
     "end_time": "2022-10-07T21:49:21.368787",
     "exception": false,
     "start_time": "2022-10-07T21:49:20.663598",
     "status": "completed"
    },
    "tags": []
   },
   "outputs": [],
   "source": [
    "nltk.download('punkt')\n",
    "nltk.download('wordnet')\n",
    "nltk.download('omw-1.4')"
   ]
  },
  {
   "cell_type": "code",
   "execution_count": null,
   "id": "de119306",
   "metadata": {
    "papermill": {
     "duration": 3.626548,
     "end_time": "2022-10-07T21:49:25.081902",
     "exception": false,
     "start_time": "2022-10-07T21:49:21.455354",
     "status": "completed"
    },
    "tags": []
   },
   "outputs": [],
   "source": [
    "wl = WordNetLemmatizer()\n",
    "nr = len(df)\n",
    "lis = []\n",
    "for r in range(0, nr):\n",
    "    ll = []\n",
    "    t = df.loc[r]['Resume']\n",
    "    tw = str(t).split(\" \")\n",
    "    for w in tw:\n",
    "        ll.append(wl.lemmatize(w, pos=\"v\"))\n",
    "    lt = \" \".join(ll)\n",
    "    lis.append(lt)"
   ]
  },
  {
   "cell_type": "code",
   "execution_count": null,
   "id": "caf624e6",
   "metadata": {
    "papermill": {
     "duration": 0.100213,
     "end_time": "2022-10-07T21:49:25.313562",
     "exception": false,
     "start_time": "2022-10-07T21:49:25.213349",
     "status": "completed"
    },
    "tags": []
   },
   "outputs": [],
   "source": [
    "df['Resume'] = lis"
   ]
  },
  {
   "cell_type": "markdown",
   "id": "dd81ce88",
   "metadata": {
    "papermill": {
     "duration": 0.088575,
     "end_time": "2022-10-07T21:49:25.486524",
     "exception": false,
     "start_time": "2022-10-07T21:49:25.397949",
     "status": "completed"
    },
    "tags": []
   },
   "source": [
    "# Removing Stop-words"
   ]
  },
  {
   "cell_type": "code",
   "execution_count": null,
   "id": "34f6b553",
   "metadata": {
    "papermill": {
     "duration": 0.103802,
     "end_time": "2022-10-07T21:49:25.676956",
     "exception": false,
     "start_time": "2022-10-07T21:49:25.573154",
     "status": "completed"
    },
    "tags": []
   },
   "outputs": [],
   "source": [
    "nltk.download('stopwords')"
   ]
  },
  {
   "cell_type": "code",
   "execution_count": null,
   "id": "0f675bf3",
   "metadata": {
    "papermill": {
     "duration": 9.594062,
     "end_time": "2022-10-07T21:49:35.359451",
     "exception": false,
     "start_time": "2022-10-07T21:49:25.765389",
     "status": "completed"
    },
    "tags": []
   },
   "outputs": [],
   "source": [
    "sw = list(stopwords.words('english'))\n",
    "for s in sw:\n",
    "    rs = r\"\\b\" + s + r\"\\b\"\n",
    "    df['Resume'] = df['Resume'].str.replace(rs, '')"
   ]
  },
  {
   "cell_type": "markdown",
   "id": "8a1b3d85",
   "metadata": {
    "papermill": {
     "duration": 0.087239,
     "end_time": "2022-10-07T21:49:35.535807",
     "exception": false,
     "start_time": "2022-10-07T21:49:35.448568",
     "status": "completed"
    },
    "tags": []
   },
   "source": [
    "# Visualizing most commonly used words in Resumes after applying NLP techniques "
   ]
  },
  {
   "cell_type": "code",
   "execution_count": null,
   "id": "96e57710",
   "metadata": {
    "papermill": {
     "duration": 32.450756,
     "end_time": "2022-10-07T21:50:08.070973",
     "exception": false,
     "start_time": "2022-10-07T21:49:35.620217",
     "status": "completed"
    },
    "tags": []
   },
   "outputs": [],
   "source": [
    "a=[ 'Accent_r', 'Blues', 'Blues_r', 'BrBG', 'viridis', 'viridis_r', 'vlag', 'vlag_r', 'winter', 'winter_r','BrBG_r', 'BuGn', 'BuGn_r', 'afmhot', 'afmhot_r', 'autumn', 'autumn_r', 'binary', 'binary_r', 'bone', 'bone_r', 'brg', 'brg_r', 'bwr', 'crest_r']\n",
    "for label, cmap in zip(df['Category'].unique(), a):\n",
    "    text = df.query(\"Category == @label\")[\"Resume\"].str.cat(sep=\" \")\n",
    "    plt.figure(figsize=(10, 6))\n",
    "    wc = WordCloud(width=1000, height=600, background_color=\"#f8f8f8\", colormap=cmap)\n",
    "    wc.generate_from_text(text)\n",
    "    plt.imshow(wc)\n",
    "    plt.axis(\"off\")\n",
    "    plt.title(f\"Words Commonly Used in ${label}$ Resumes\", size=20)\n",
    "    plt.show()"
   ]
  },
  {
   "cell_type": "markdown",
   "id": "f0b2ef91",
   "metadata": {
    "papermill": {
     "duration": 0.167424,
     "end_time": "2022-10-07T21:50:08.409735",
     "exception": false,
     "start_time": "2022-10-07T21:50:08.242311",
     "status": "completed"
    },
    "tags": []
   },
   "source": [
    "# Data Preparation for Training and Testing"
   ]
  },
  {
   "cell_type": "markdown",
   "id": "5a9bf78b",
   "metadata": {
    "papermill": {
     "duration": 0.161481,
     "end_time": "2022-10-07T21:50:08.735054",
     "exception": false,
     "start_time": "2022-10-07T21:50:08.573573",
     "status": "completed"
    },
    "tags": []
   },
   "source": [
    "# Encoding Labels"
   ]
  },
  {
   "cell_type": "code",
   "execution_count": null,
   "id": "c0d73e20",
   "metadata": {
    "papermill": {
     "duration": 0.173251,
     "end_time": "2022-10-07T21:50:09.070531",
     "exception": false,
     "start_time": "2022-10-07T21:50:08.897280",
     "status": "completed"
    },
    "tags": []
   },
   "outputs": [],
   "source": [
    "df['Category'] = LabelEncoder().fit_transform(df['Category'])"
   ]
  },
  {
   "cell_type": "markdown",
   "id": "ca1c3277",
   "metadata": {
    "papermill": {
     "duration": 0.161631,
     "end_time": "2022-10-07T21:50:09.391142",
     "exception": false,
     "start_time": "2022-10-07T21:50:09.229511",
     "status": "completed"
    },
    "tags": []
   },
   "source": [
    "# Using Bag of Words approach for converting the content in resumes into vector form"
   ]
  },
  {
   "cell_type": "code",
   "execution_count": null,
   "id": "fa44e60a",
   "metadata": {
    "papermill": {
     "duration": 0.382773,
     "end_time": "2022-10-07T21:50:09.937661",
     "exception": false,
     "start_time": "2022-10-07T21:50:09.554888",
     "status": "completed"
    },
    "tags": []
   },
   "outputs": [],
   "source": [
    "cv = CountVectorizer(max_features = 2500)\n",
    "X = cv.fit_transform(df['Resume']).toarray()\n",
    "y = df['Category']"
   ]
  },
  {
   "cell_type": "markdown",
   "id": "a07521c1",
   "metadata": {
    "papermill": {
     "duration": 0.161575,
     "end_time": "2022-10-07T21:50:10.258046",
     "exception": false,
     "start_time": "2022-10-07T21:50:10.096471",
     "status": "completed"
    },
    "tags": []
   },
   "source": [
    "# Splitting the Data using Stratified split"
   ]
  },
  {
   "cell_type": "code",
   "execution_count": null,
   "id": "89638f99",
   "metadata": {
    "papermill": {
     "duration": 0.189023,
     "end_time": "2022-10-07T21:50:10.610882",
     "exception": false,
     "start_time": "2022-10-07T21:50:10.421859",
     "status": "completed"
    },
    "tags": []
   },
   "outputs": [],
   "source": [
    "X_train, X_test, y_train, y_test = train_test_split(X, y, test_size = 0.3, stratify=y, random_state = 42)"
   ]
  },
  {
   "cell_type": "code",
   "execution_count": null,
   "id": "b15a7ddc",
   "metadata": {
    "papermill": {
     "duration": 0.178803,
     "end_time": "2022-10-07T21:50:10.948704",
     "exception": false,
     "start_time": "2022-10-07T21:50:10.769901",
     "status": "completed"
    },
    "tags": []
   },
   "outputs": [],
   "source": [
    "def plot_confusion_matrix(cm, classes,\n",
    "                          normalize=False,\n",
    "                          title='Confusion matrix',\n",
    "                              cmap=plt.cm.Greens):\n",
    "    plt.figure(figsize=(50, 20), dpi=130)\n",
    "    plt.imshow(cm, interpolation='nearest', cmap=cmap)\n",
    "    plt.title(title)\n",
    "    plt.colorbar()\n",
    "    tick_marks = np.arange(len(classes))\n",
    "    plt.xticks(tick_marks, classes, rotation=45)\n",
    "    plt.yticks(tick_marks, classes)\n",
    "\n",
    "    if normalize:\n",
    "        cm = cm.astype('float') / cm.sum(axis=1)[:, np.newaxis]\n",
    "\n",
    "    thresh = cm.max() / 2.\n",
    "    for i, j in itertools.product(range(cm.shape[0]), range(cm.shape[1])):\n",
    "        plt.text(j, i, cm[i, j],\n",
    "                 horizontalalignment=\"center\",\n",
    "                 color=\"white\" if cm[i, j] > thresh else \"black\")\n",
    "\n",
    "    plt.tight_layout()\n",
    "    plt.ylabel('True label')\n",
    "    plt.xlabel('Predicted label')"
   ]
  },
  {
   "cell_type": "markdown",
   "id": "4c798f44",
   "metadata": {
    "papermill": {
     "duration": 0.164161,
     "end_time": "2022-10-07T21:50:11.270552",
     "exception": false,
     "start_time": "2022-10-07T21:50:11.106391",
     "status": "completed"
    },
    "tags": []
   },
   "source": [
    "# Using AdaBoost Classifier as the Model and printing evaluating it using confusion matrix"
   ]
  },
  {
   "cell_type": "code",
   "execution_count": null,
   "id": "65d6c088",
   "metadata": {
    "papermill": {
     "duration": 5.08109,
     "end_time": "2022-10-07T21:50:16.516358",
     "exception": false,
     "start_time": "2022-10-07T21:50:11.435268",
     "status": "completed"
    },
    "tags": []
   },
   "outputs": [],
   "source": [
    "clf = AdaBoostClassifier(n_estimators=60)\n",
    "clf = clf.fit(X_train, y_train)\n",
    "yp = clf.predict(X_test)\n",
    "acc = accuracy_score(y_test, yp)\n",
    "print(\"accuracy is: \",acc)\n",
    "CM = confusion_matrix(y_test, yp)\n",
    "plot_confusion_matrix(CM, classes = range(25),cmap=plt.cm.Reds)\n",
    "dump(clf, 'ada.joblib') "
   ]
  },
  {
   "cell_type": "markdown",
   "id": "ddb8ef4e",
   "metadata": {
    "papermill": {
     "duration": 0.16398,
     "end_time": "2022-10-07T21:50:16.854357",
     "exception": false,
     "start_time": "2022-10-07T21:50:16.690377",
     "status": "completed"
    },
    "tags": []
   },
   "source": [
    "# Using KNeighbors Classifier as the Model and printing evaluating it using confusion matrix"
   ]
  },
  {
   "cell_type": "code",
   "execution_count": null,
   "id": "9028c115",
   "metadata": {
    "papermill": {
     "duration": 4.212755,
     "end_time": "2022-10-07T21:50:21.229049",
     "exception": false,
     "start_time": "2022-10-07T21:50:17.016294",
     "status": "completed"
    },
    "tags": []
   },
   "outputs": [],
   "source": [
    "clf = KNeighborsClassifier(n_neighbors=7)\n",
    "clf = clf.fit(X_train, y_train)\n",
    "yp = clf.predict(X_test)\n",
    "acc = accuracy_score(y_test, yp)\n",
    "print(\"accuracy is: \",acc)\n",
    "CM = confusion_matrix(y_test, yp)\n",
    "plot_confusion_matrix(CM, classes = range(25),cmap=plt.cm.Blues)\n",
    "dump(clf, 'knei.joblib') "
   ]
  },
  {
   "cell_type": "markdown",
   "id": "529fccf6",
   "metadata": {
    "papermill": {
     "duration": 0.162661,
     "end_time": "2022-10-07T21:50:21.566553",
     "exception": false,
     "start_time": "2022-10-07T21:50:21.403892",
     "status": "completed"
    },
    "tags": []
   },
   "source": [
    "# Using Decision tree as the Model and printing evaluating it using confusion matrix"
   ]
  },
  {
   "cell_type": "code",
   "execution_count": null,
   "id": "bfb6aeff",
   "metadata": {
    "papermill": {
     "duration": 4.274038,
     "end_time": "2022-10-07T21:50:26.005125",
     "exception": false,
     "start_time": "2022-10-07T21:50:21.731087",
     "status": "completed"
    },
    "tags": []
   },
   "outputs": [],
   "source": [
    "clf = tree.DecisionTreeClassifier()\n",
    "clf = clf.fit(X_train, y_train)\n",
    "yp = clf.predict(X_test)\n",
    "acc = accuracy_score(y_test, yp)\n",
    "print(\"accuracy is: \",acc)\n",
    "CM = confusion_matrix(y_test, yp)\n",
    "plot_confusion_matrix(CM, classes = range(25))\n",
    "dump(clf, 'DT.joblib') "
   ]
  },
  {
   "cell_type": "markdown",
   "id": "35792f7d",
   "metadata": {
    "papermill": {
     "duration": 0.167261,
     "end_time": "2022-10-07T21:50:26.347494",
     "exception": false,
     "start_time": "2022-10-07T21:50:26.180233",
     "status": "completed"
    },
    "tags": []
   },
   "source": [
    "# Turning encoded lables into Categorical format"
   ]
  },
  {
   "cell_type": "code",
   "execution_count": null,
   "id": "2cbe3884",
   "metadata": {
    "papermill": {
     "duration": 0.198774,
     "end_time": "2022-10-07T21:50:26.735084",
     "exception": false,
     "start_time": "2022-10-07T21:50:26.536310",
     "status": "completed"
    },
    "tags": []
   },
   "outputs": [],
   "source": [
    "y_train=to_categorical(y_train, num_classes = 25, dtype='float32')\n",
    "y_test=to_categorical(y_test, num_classes = 25, dtype='float32')"
   ]
  },
  {
   "cell_type": "code",
   "execution_count": null,
   "id": "e732025b",
   "metadata": {
    "papermill": {
     "duration": 0.470024,
     "end_time": "2022-10-07T21:50:27.374366",
     "exception": false,
     "start_time": "2022-10-07T21:50:26.904342",
     "status": "completed"
    },
    "tags": []
   },
   "outputs": [],
   "source": [
    "from keras.models import Sequential,Model\n",
    "from tensorflow.keras.utils import plot_model\n",
    "from keras.layers import Dense,LSTM, SpatialDropout1D, Embedding \n",
    "from keras.layers import Dense, Embedding, GRU, LSTM, Dropout, Bidirectional\n",
    "from keras.layers import Conv1D, MaxPool1D, GlobalMaxPooling1D, GlobalAveragePooling1D"
   ]
  },
  {
   "cell_type": "markdown",
   "id": "a10c3e4f",
   "metadata": {
    "papermill": {
     "duration": 0.167056,
     "end_time": "2022-10-07T21:50:27.713266",
     "exception": false,
     "start_time": "2022-10-07T21:50:27.546210",
     "status": "completed"
    },
    "tags": []
   },
   "source": [
    "# Building a 1D CNN model"
   ]
  },
  {
   "cell_type": "code",
   "execution_count": null,
   "id": "4d75f143",
   "metadata": {
    "papermill": {
     "duration": 3.150062,
     "end_time": "2022-10-07T21:50:31.029699",
     "exception": false,
     "start_time": "2022-10-07T21:50:27.879637",
     "status": "completed"
    },
    "tags": []
   },
   "outputs": [],
   "source": [
    "model = Sequential()\n",
    "model.add(Embedding(input_dim=232337, output_dim=100, input_length=X_train.shape[1]))\n",
    "model.add(Conv1D(128, 3, activation='relu'))\n",
    "model.add(MaxPool1D(3))\n",
    "model.add(Dropout(0.2))\n",
    "model.add(Conv1D(128, 3, activation='relu'))\n",
    "model.add(GlobalMaxPooling1D())\n",
    "model.add(Dropout(0.2))\n",
    "model.add(Dense(64, activation='relu'))\n",
    "model.add(Dropout(0.2))\n",
    "model.add(Dense(32, activation='relu'))\n",
    "model.add(Dropout(0.2))\n",
    "model.add(Dense(25, activation='softmax'))\n",
    "\n",
    "model.compile(loss='binary_crossentropy', optimizer=\"adam\", metrics=['accuracy'])"
   ]
  },
  {
   "cell_type": "code",
   "execution_count": null,
   "id": "ebc8e0c6",
   "metadata": {
    "papermill": {
     "duration": 72.036531,
     "end_time": "2022-10-07T21:51:43.233427",
     "exception": false,
     "start_time": "2022-10-07T21:50:31.196896",
     "status": "completed"
    },
    "tags": []
   },
   "outputs": [],
   "source": [
    "history = model.fit(X_train, y_train, batch_size = 64, epochs=150, validation_data = (X_test,y_test), verbose=1)"
   ]
  },
  {
   "cell_type": "code",
   "execution_count": null,
   "id": "e6fa906b",
   "metadata": {
    "papermill": {
     "duration": 0.630145,
     "end_time": "2022-10-07T21:51:44.098626",
     "exception": false,
     "start_time": "2022-10-07T21:51:43.468481",
     "status": "completed"
    },
    "tags": []
   },
   "outputs": [],
   "source": [
    "acc = history.history['accuracy']\n",
    "val_acc = history.history['val_accuracy']\n",
    "loss = history.history['loss']\n",
    "val_loss = history.history['val_loss']\n",
    "epochs = range(1, len(acc) + 1)\n",
    "plt.plot(epochs, acc, 'bo', label='Training accuracy')\n",
    "plt.plot(epochs, val_acc, 'r', label='Validation accuracy')\n",
    "plt.title('Training and validation accuracy')\n",
    "plt.legend()\n",
    "plt.figure()\n",
    "plt.plot(epochs, loss, 'bo', label='Training loss')\n",
    "plt.plot(epochs, val_loss, 'r', label='Validation loss')\n",
    "plt.title('Training and validation loss')\n",
    "plt.legend()\n",
    "plt.show()"
   ]
  },
  {
   "cell_type": "code",
   "execution_count": null,
   "id": "b9740cc7",
   "metadata": {
    "papermill": {
     "duration": 0.433199,
     "end_time": "2022-10-07T21:51:44.755293",
     "exception": false,
     "start_time": "2022-10-07T21:51:44.322094",
     "status": "completed"
    },
    "tags": []
   },
   "outputs": [],
   "source": [
    "a= model.evaluate(X_test,y_test)\n",
    "print(\"accuracy is: \",a[1])"
   ]
  },
  {
   "cell_type": "code",
   "execution_count": null,
   "id": "e081bca7",
   "metadata": {
    "papermill": {
     "duration": 0.912069,
     "end_time": "2022-10-07T21:51:45.891527",
     "exception": false,
     "start_time": "2022-10-07T21:51:44.979458",
     "status": "completed"
    },
    "tags": []
   },
   "outputs": [],
   "source": [
    "model.save('cnn.h5')"
   ]
  }
 ],
 "metadata": {
  "kernelspec": {
   "display_name": "Python 3 (ipykernel)",
   "language": "python",
   "name": "python3"
  },
  "language_info": {
   "codemirror_mode": {
    "name": "ipython",
    "version": 3
   },
   "file_extension": ".py",
   "mimetype": "text/x-python",
   "name": "python",
   "nbconvert_exporter": "python",
   "pygments_lexer": "ipython3",
   "version": "3.10.6"
  },
  "papermill": {
   "default_parameters": {},
   "duration": 200.577061,
   "end_time": "2022-10-07T21:51:49.455056",
   "environment_variables": {},
   "exception": null,
   "input_path": "__notebook__.ipynb",
   "output_path": "__notebook__.ipynb",
   "parameters": {},
   "start_time": "2022-10-07T21:48:28.877995",
   "version": "2.3.4"
  }
 },
 "nbformat": 4,
 "nbformat_minor": 5
}
